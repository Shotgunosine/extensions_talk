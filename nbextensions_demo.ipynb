{
 "cells": [
  {
   "cell_type": "markdown",
   "metadata": {},
   "source": [
    "# Python extensions"
   ]
  },
  {
   "cell_type": "code",
   "execution_count": 1,
   "metadata": {
    "hide_input": false
   },
   "outputs": [],
   "source": [
    "x=11"
   ]
  },
  {
   "cell_type": "markdown",
   "metadata": {
    "variables": {
     "x": "11"
    }
   },
   "source": [
    "This markdown can have python variable values in it {{x}}."
   ]
  },
  {
   "cell_type": "code",
   "execution_count": 2,
   "metadata": {},
   "outputs": [],
   "source": [
    "from pathlib import Path"
   ]
  },
  {
   "cell_type": "markdown",
   "metadata": {},
   "source": [
    "## This is a subsection"
   ]
  },
  {
   "cell_type": "markdown",
   "metadata": {},
   "source": [
    "# Extensions with dependencies"
   ]
  },
  {
   "cell_type": "code",
   "execution_count": 4,
   "metadata": {},
   "outputs": [
    {
     "name": "stdout",
     "output_type": "stream",
     "text": [
      "Collecting package metadata (current_repodata.json): done\n",
      "Solving environment: done\n",
      "\n",
      "## Package Plan ##\n",
      "\n",
      "  environment location: /Users/nielsond/miniconda3/envs/nbext\n",
      "\n",
      "  added / updated specs:\n",
      "    - autopep8\n",
      "\n",
      "\n",
      "The following NEW packages will be INSTALLED:\n",
      "\n",
      "  autopep8           conda-forge/noarch::autopep8-1.4.4-py_0\n",
      "  pycodestyle        conda-forge/noarch::pycodestyle-2.5.0-py_0\n",
      "\n",
      "\n",
      "Preparing transaction: done\n",
      "Verifying transaction: done\n",
      "Executing transaction: done\n",
      "\n",
      "Note: you may need to restart the kernel to use updated packages.\n"
     ]
    }
   ],
   "source": [
    "%conda install autopep8"
   ]
  },
  {
   "cell_type": "code",
   "execution_count": null,
   "metadata": {
    "solution2": "shown",
    "solution2_first": true
   },
   "outputs": [],
   "source": [
    "# poorly formatted code from autopep8's documentation (https://github.com/hhatto/autopep8)\n",
    "\n",
    "import math, sys;\n",
    "\n",
    "def example1():\n",
    "    ####This is a long comment. This should be wrapped to fit within 72 characters.\n",
    "    some_tuple=(   1,2, 3,'a'  );\n",
    "    some_variable={'long':'Long code lines should be wrapped within 79 characters.',\n",
    "    'other':[math.pi, 100,200,300,9876543210,'This is a long string that goes on'],\n",
    "    'more':{'inner':'This whole logical line should be wrapped.',some_tuple:[1,\n",
    "    20,300,40000,500000000,60000000000000000]}}\n",
    "    return (some_tuple, some_variable)\n",
    "def example2(): return {'has_key() is deprecated':True}.has_key({'f':2}.has_key(''));\n",
    "class Example3(   object ):\n",
    "    def __init__    ( self, bar ):\n",
    "     #Comments should have a space after the hash.\n",
    "     if bar : bar+=1;  bar=bar* bar   ; return bar\n",
    "     else:\n",
    "                    some_string = \"\"\"\n",
    "                       Indentation in multiline strings should not be touched.\n",
    "Only actual code should be reindented.\n",
    "\"\"\"\n",
    "                    return (sys.path, some_string)"
   ]
  },
  {
   "cell_type": "code",
   "execution_count": 1,
   "metadata": {
    "solution2": "shown"
   },
   "outputs": [],
   "source": [
    "import math\n",
    "import sys\n",
    "\n",
    "\n",
    "def example1():\n",
    "    # This is a long comment. This should be wrapped to fit within 72 characters.\n",
    "    some_tuple = (1, 2, 3, 'a')\n",
    "    some_variable = {'long': 'Long code lines should be wrapped within 79 characters.',\n",
    "                     'other': [math.pi, 100, 200, 300, 9876543210, 'This is a long string that goes on'],\n",
    "                     'more': {'inner': 'This whole logical line should be wrapped.', some_tuple: [1,\n",
    "                                                                                                  20, 300, 40000, 500000000, 60000000000000000]}}\n",
    "    return (some_tuple, some_variable)\n",
    "\n",
    "\n",
    "def example2(): return {'has_key() is deprecated': True}.has_key(\n",
    "    {'f': 2}.has_key(''))\n",
    "\n",
    "\n",
    "class Example3(object):\n",
    "    def __init__(self, bar):\n",
    "        # Comments should have a space after the hash.\n",
    "        if bar:\n",
    "            bar += 1\n",
    "            bar = bar * bar\n",
    "            return bar\n",
    "        else:\n",
    "            some_string = \"\"\"\n",
    "                       Indentation in multiline strings should not be touched.\n",
    "Only actual code should be reindented.\n",
    "\"\"\"\n",
    "            return (sys.path, some_string)"
   ]
  },
  {
   "cell_type": "markdown",
   "metadata": {},
   "source": [
    "# Let's go for silly and try to install a new jupyter kernel from inside a notebook"
   ]
  },
  {
   "cell_type": "code",
   "execution_count": 4,
   "metadata": {},
   "outputs": [
    {
     "name": "stdout",
     "output_type": "stream",
     "text": [
      "Collecting package metadata (current_repodata.json): done\n",
      "Solving environment: failed\n",
      "Collecting package metadata (repodata.json): done\n",
      "Solving environment: failed\n",
      "\n",
      "UnsatisfiableError: The following specifications were found to be incompatible with each other:\n",
      "\n",
      "  - r-irkernel -> ipython-notebook\n",
      "  - r-irkernel -> jupyter -> ipykernel -> ipython[version='>=5.0'] -> appnope -> python[version='>=3.7,<3.8.0a0'] -> pip -> setuptools -> certifi[version='>=2016.09']\n",
      "  - r-irkernel -> jupyter -> ipykernel -> ipython[version='>=5.0'] -> appnope -> python[version='>=3.7,<3.8.0a0'] -> pip -> wheel\n",
      "  - r-irkernel -> jupyter -> ipykernel -> ipython[version='>=5.0'] -> appnope -> python[version='>=3.7,<3.8.0a0'] -> sqlite[version='>=3.28.0,<4.0a0'] -> libedit[version='>=3.1.20181209,<3.2.0a0']\n",
      "  - r-irkernel -> jupyter -> ipykernel -> ipython[version='>=5.0'] -> backcall\n",
      "  - r-irkernel -> jupyter -> ipykernel -> ipython[version='>=5.0'] -> backports.shutil_get_terminal_size -> backports\n",
      "  - r-irkernel -> jupyter -> ipykernel -> ipython[version='>=5.0'] -> decorator\n",
      "  - r-irkernel -> jupyter -> ipykernel -> ipython[version='>=5.0'] -> jedi[version='>=0.10'] -> numpydoc -> sphinx -> alabaster[version='>=0.7,<0.8']\n",
      "  - r-irkernel -> jupyter -> ipykernel -> ipython[version='>=5.0'] -> jedi[version='>=0.10'] -> numpydoc -> sphinx -> babel[version='>=1.3,!=2.0'] -> pytz\n",
      "  - r-irkernel -> jupyter -> ipykernel -> ipython[version='>=5.0'] -> jedi[version='>=0.10'] -> numpydoc -> sphinx -> docutils[version='>=0.12']\n",
      "  - r-irkernel -> jupyter -> ipykernel -> ipython[version='>=5.0'] -> jedi[version='>=0.10'] -> numpydoc -> sphinx -> imagesize\n",
      "  - r-irkernel -> jupyter -> ipykernel -> ipython[version='>=5.0'] -> jedi[version='>=0.10'] -> numpydoc -> sphinx -> jinja2[version='>=2.3'] -> markupsafe[version='>=0.23']\n",
      "  - r-irkernel -> jupyter -> ipykernel -> ipython[version='>=5.0'] -> jedi[version='>=0.10'] -> numpydoc -> sphinx -> packaging -> pyparsing\n",
      "  - r-irkernel -> jupyter -> ipykernel -> ipython[version='>=5.0'] -> jedi[version='>=0.10'] -> numpydoc -> sphinx -> packaging -> six\n",
      "  - r-irkernel -> jupyter -> ipykernel -> ipython[version='>=5.0'] -> jedi[version='>=0.10'] -> numpydoc -> sphinx -> pygments[version='>=2.0']\n",
      "  - r-irkernel -> jupyter -> ipykernel -> ipython[version='>=5.0'] -> jedi[version='>=0.10'] -> numpydoc -> sphinx -> requests[version='>=2.5.0'] -> chardet[version='>=3.0.2,<3.1.0']\n",
      "  - r-irkernel -> jupyter -> ipykernel -> ipython[version='>=5.0'] -> jedi[version='>=0.10'] -> numpydoc -> sphinx -> requests[version='>=2.5.0'] -> idna[version='>=2.5,<2.9']\n",
      "  - r-irkernel -> jupyter -> ipykernel -> ipython[version='>=5.0'] -> jedi[version='>=0.10'] -> numpydoc -> sphinx -> requests[version='>=2.5.0'] -> urllib3[version='>=1.21.1,<1.25'] -> cryptography[version='>=1.3.4'] -> asn1crypto[version='>=0.21.0']\n",
      "  - r-irkernel -> jupyter -> ipykernel -> ipython[version='>=5.0'] -> jedi[version='>=0.10'] -> numpydoc -> sphinx -> requests[version='>=2.5.0'] -> urllib3[version='>=1.21.1,<1.25'] -> cryptography[version='>=1.3.4'] -> cffi[version='>=1.7'] -> pycparser\n",
      "  - r-irkernel -> jupyter -> ipykernel -> ipython[version='>=5.0'] -> jedi[version='>=0.10'] -> numpydoc -> sphinx -> requests[version='>=2.5.0'] -> urllib3[version='>=1.21.1,<1.25'] -> cryptography[version='>=1.3.4'] -> cryptography-vectors=2.3.1\n",
      "  - r-irkernel -> jupyter -> ipykernel -> ipython[version='>=5.0'] -> jedi[version='>=0.10'] -> numpydoc -> sphinx -> requests[version='>=2.5.0'] -> urllib3[version='>=1.21.1,<1.25'] -> cryptography[version='>=1.3.4'] -> enum34\n",
      "  - r-irkernel -> jupyter -> ipykernel -> ipython[version='>=5.0'] -> jedi[version='>=0.10'] -> numpydoc -> sphinx -> requests[version='>=2.5.0'] -> urllib3[version='>=1.21.1,<1.25'] -> cryptography[version='>=1.3.4'] -> ipaddress\n",
      "  - r-irkernel -> jupyter -> ipykernel -> ipython[version='>=5.0'] -> jedi[version='>=0.10'] -> numpydoc -> sphinx -> requests[version='>=2.5.0'] -> urllib3[version='>=1.21.1,<1.25'] -> pyopenssl[version='>=0.14']\n",
      "  - r-irkernel -> jupyter -> ipykernel -> ipython[version='>=5.0'] -> jedi[version='>=0.10'] -> numpydoc -> sphinx -> requests[version='>=2.5.0'] -> urllib3[version='>=1.21.1,<1.25'] -> pysocks[version='>=1.5.6,<2.0,!=1.5.7']\n",
      "  - r-irkernel -> jupyter -> ipykernel -> ipython[version='>=5.0'] -> jedi[version='>=0.10'] -> numpydoc -> sphinx -> snowballstemmer[version='>=1.1']\n",
      "  - r-irkernel -> jupyter -> ipykernel -> ipython[version='>=5.0'] -> jedi[version='>=0.10'] -> numpydoc -> sphinx -> sphinxcontrib-applehelp\n",
      "  - r-irkernel -> jupyter -> ipykernel -> ipython[version='>=5.0'] -> jedi[version='>=0.10'] -> numpydoc -> sphinx -> sphinxcontrib-devhelp\n",
      "  - r-irkernel -> jupyter -> ipykernel -> ipython[version='>=5.0'] -> jedi[version='>=0.10'] -> numpydoc -> sphinx -> sphinxcontrib-htmlhelp\n",
      "  - r-irkernel -> jupyter -> ipykernel -> ipython[version='>=5.0'] -> jedi[version='>=0.10'] -> numpydoc -> sphinx -> sphinxcontrib-jsmath\n",
      "  - r-irkernel -> jupyter -> ipykernel -> ipython[version='>=5.0'] -> jedi[version='>=0.10'] -> numpydoc -> sphinx -> sphinxcontrib-qthelp\n",
      "  - r-irkernel -> jupyter -> ipykernel -> ipython[version='>=5.0'] -> jedi[version='>=0.10'] -> numpydoc -> sphinx -> sphinxcontrib-serializinghtml\n",
      "  - r-irkernel -> jupyter -> ipykernel -> ipython[version='>=5.0'] -> jedi[version='>=0.10'] -> numpydoc -> sphinx -> sphinxcontrib-websupport -> sphinxcontrib\n",
      "  - r-irkernel -> jupyter -> ipykernel -> ipython[version='>=5.0'] -> jedi[version='>=0.10'] -> numpydoc -> sphinx -> typing\n",
      "  - r-irkernel -> jupyter -> ipykernel -> ipython[version='>=5.0'] -> jedi[version='>=0.10'] -> parso[version='>=0.5.0']\n",
      "  - r-irkernel -> jupyter -> ipykernel -> ipython[version='>=5.0'] -> pexpect -> ptyprocess[version='>=0.5']\n",
      "  - r-irkernel -> jupyter -> ipykernel -> ipython[version='>=5.0'] -> pickleshare -> pathlib2 -> scandir\n",
      "  - r-irkernel -> jupyter -> ipykernel -> ipython[version='>=5.0'] -> pickleshare -> python-pathlib2\n",
      "  - r-irkernel -> jupyter -> ipykernel -> ipython[version='>=5.0'] -> prompt_toolkit[version='>=2.0.0'] -> wcwidth\n",
      "  - r-irkernel -> jupyter -> ipykernel -> ipython[version='>=5.0'] -> python.app\n",
      "  - r-irkernel -> jupyter -> ipykernel -> ipython[version='>=5.0'] -> simplegeneric[version='>0.8']\n",
      "  - r-irkernel -> jupyter -> ipykernel -> ipython[version='>=5.0'] -> traitlets[version='>=4.2'] -> ipython_genutils\n",
      "  - r-irkernel -> jupyter -> ipykernel -> jupyter_client -> jupyter_core\n",
      "  - r-irkernel -> jupyter -> ipykernel -> jupyter_client -> python-dateutil[version='>=2.1']\n",
      "  - r-irkernel -> jupyter -> ipykernel -> jupyter_client -> pyzmq[version='>=13']\n",
      "  - r-irkernel -> jupyter -> ipykernel -> jupyter_client -> tornado[version='>=4.1'] -> backports_abc[version='>=0.4']\n",
      "  - r-irkernel -> jupyter -> ipykernel -> jupyter_client -> tornado[version='>=4.1'] -> futures\n",
      "  - r-irkernel -> jupyter -> ipykernel -> jupyter_client -> tornado[version='>=4.1'] -> singledispatch\n",
      "  - r-irkernel -> jupyter -> ipykernel -> jupyter_client -> tornado[version='>=4.1'] -> ssl_match_hostname\n",
      "  - r-irkernel -> jupyter -> ipywidgets -> nbformat[version='>=4.2.0'] -> jsonschema[version='>=2.4,!=2.5.0'] -> attrs[version='>=17.4.0']\n",
      "  - r-irkernel -> jupyter -> ipywidgets -> nbformat[version='>=4.2.0'] -> jsonschema[version='>=2.4,!=2.5.0'] -> functools32\n",
      "  - r-irkernel -> jupyter -> ipywidgets -> nbformat[version='>=4.2.0'] -> jsonschema[version='>=2.4,!=2.5.0'] -> pyrsistent[version='>=0.14.0']\n",
      "  - r-irkernel -> jupyter -> ipywidgets -> widgetsnbextension[version='>=3.5.0,<3.6.0'] -> notebook[version='>=4.4.1'] -> nbconvert -> bleach -> html5lib[version='>=0.99999999pre,!=1.0b1,!=1.0b2,!=1.0b3,!=1.0b4,!=1.0b5,!=1.0b6,!=1.0b7,!=1.0b8']\n",
      "  - r-irkernel -> jupyter -> ipywidgets -> widgetsnbextension[version='>=3.5.0,<3.6.0'] -> notebook[version='>=4.4.1'] -> nbconvert -> bleach -> webencodings\n",
      "  - r-irkernel -> jupyter -> ipywidgets -> widgetsnbextension[version='>=3.5.0,<3.6.0'] -> notebook[version='>=4.4.1'] -> nbconvert -> defusedxml\n",
      "  - r-irkernel -> jupyter -> ipywidgets -> widgetsnbextension[version='>=3.5.0,<3.6.0'] -> notebook[version='>=4.4.1'] -> nbconvert -> entrypoints[version='>=0.2.2'] -> configparser[version='>=3.5']\n",
      "  - r-irkernel -> jupyter -> ipywidgets -> widgetsnbextension[version='>=3.5.0,<3.6.0'] -> notebook[version='>=4.4.1'] -> nbconvert -> mistune[version='>=0.8.1']\n",
      "  - r-irkernel -> jupyter -> ipywidgets -> widgetsnbextension[version='>=3.5.0,<3.6.0'] -> notebook[version='>=4.4.1'] -> nbconvert -> pandoc[version='>=1.12.1']\n",
      "  - r-irkernel -> jupyter -> ipywidgets -> widgetsnbextension[version='>=3.5.0,<3.6.0'] -> notebook[version='>=4.4.1'] -> nbconvert -> pandocfilters[version='>=1.4.1']\n",
      "  - r-irkernel -> jupyter -> ipywidgets -> widgetsnbextension[version='>=3.5.0,<3.6.0'] -> notebook[version='>=4.4.1'] -> nbconvert -> testpath\n",
      "  - r-irkernel -> jupyter -> ipywidgets -> widgetsnbextension[version='>=3.5.0,<3.6.0'] -> notebook[version='>=4.4.1'] -> prometheus_client -> twisted -> appdirs[version='>=1.4.0']\n",
      "  - r-irkernel -> jupyter -> ipywidgets -> widgetsnbextension[version='>=3.5.0,<3.6.0'] -> notebook[version='>=4.4.1'] -> prometheus_client -> twisted -> automat[version='>=0.3.0']\n",
      "  - r-irkernel -> jupyter -> ipywidgets -> widgetsnbextension[version='>=3.5.0,<3.6.0'] -> notebook[version='>=4.4.1'] -> prometheus_client -> twisted -> bcrypt\n",
      "  - r-irkernel -> jupyter -> ipywidgets -> widgetsnbextension[version='>=3.5.0,<3.6.0'] -> notebook[version='>=4.4.1'] -> prometheus_client -> twisted -> constantly[version='>=15.1']\n",
      "  - r-irkernel -> jupyter -> ipywidgets -> widgetsnbextension[version='>=3.5.0,<3.6.0'] -> notebook[version='>=4.4.1'] -> prometheus_client -> twisted -> h2[version='>=3.0,<4.0'] -> hpack[version='>=2.3,<4']\n",
      "  - r-irkernel -> jupyter -> ipywidgets -> widgetsnbextension[version='>=3.5.0,<3.6.0'] -> notebook[version='>=4.4.1'] -> prometheus_client -> twisted -> h2[version='>=3.0,<4.0'] -> hyperframe[version='>=5.1.0,<6']\n",
      "  - r-irkernel -> jupyter -> ipywidgets -> widgetsnbextension[version='>=3.5.0,<3.6.0'] -> notebook[version='>=4.4.1'] -> prometheus_client -> twisted -> hyperlink[version='>=17.1.1']\n",
      "  - r-irkernel -> jupyter -> ipywidgets -> widgetsnbextension[version='>=3.5.0,<3.6.0'] -> notebook[version='>=4.4.1'] -> prometheus_client -> twisted -> incremental[version='>=16.10.1']\n",
      "  - r-irkernel -> jupyter -> ipywidgets -> widgetsnbextension[version='>=3.5.0,<3.6.0'] -> notebook[version='>=4.4.1'] -> prometheus_client -> twisted -> priority[version='>=1.1.0,<2.0']\n",
      "  - r-irkernel -> jupyter -> ipywidgets -> widgetsnbextension[version='>=3.5.0,<3.6.0'] -> notebook[version='>=4.4.1'] -> prometheus_client -> twisted -> pyasn1\n",
      "  - r-irkernel -> jupyter -> ipywidgets -> widgetsnbextension[version='>=3.5.0,<3.6.0'] -> notebook[version='>=4.4.1'] -> prometheus_client -> twisted -> pyhamcrest[version='>=1.9.0']\n",
      "  - r-irkernel -> jupyter -> ipywidgets -> widgetsnbextension[version='>=3.5.0,<3.6.0'] -> notebook[version='>=4.4.1'] -> prometheus_client -> twisted -> pyobjc-core\n",
      "  - r-irkernel -> jupyter -> ipywidgets -> widgetsnbextension[version='>=3.5.0,<3.6.0'] -> notebook[version='>=4.4.1'] -> prometheus_client -> twisted -> pyobjc-framework-cfnetwork\n",
      "  - r-irkernel -> jupyter -> ipywidgets -> widgetsnbextension[version='>=3.5.0,<3.6.0'] -> notebook[version='>=4.4.1'] -> prometheus_client -> twisted -> pyobjc-framework-cocoa\n",
      "  - r-irkernel -> jupyter -> ipywidgets -> widgetsnbextension[version='>=3.5.0,<3.6.0'] -> notebook[version='>=4.4.1'] -> prometheus_client -> twisted -> pyserial[version='>=3.0']\n",
      "  - r-irkernel -> jupyter -> ipywidgets -> widgetsnbextension[version='>=3.5.0,<3.6.0'] -> notebook[version='>=4.4.1'] -> prometheus_client -> twisted -> service_identity[version='>=18.1.0'] -> pyasn1-modules\n",
      "  - r-irkernel -> jupyter -> ipywidgets -> widgetsnbextension[version='>=3.5.0,<3.6.0'] -> notebook[version='>=4.4.1'] -> prometheus_client -> twisted -> soappy -> wstools -> pbr\n",
      "  - r-irkernel -> jupyter -> ipywidgets -> widgetsnbextension[version='>=3.5.0,<3.6.0'] -> notebook[version='>=4.4.1'] -> prometheus_client -> twisted -> zope.interface[version='>=4.4.2'] -> zope\n",
      "  - r-irkernel -> jupyter -> ipywidgets -> widgetsnbextension[version='>=3.5.0,<3.6.0'] -> notebook[version='>=4.4.1'] -> send2trash\n",
      "  - r-irkernel -> jupyter -> ipywidgets -> widgetsnbextension[version='>=3.5.0,<3.6.0'] -> notebook[version='>=4.4.1'] -> terminado[version='>=0.8.1']\n",
      "  - r-irkernel -> jupyter -> jupyter_console\n",
      "  - r-irkernel -> jupyter -> qtconsole -> pyqt -> dbus[version='>=1.13.6,<2.0a0']\n",
      "  - r-irkernel -> jupyter -> qtconsole -> pyqt -> qt[version='5.9.*,>=5.9.7,<5.10.0a0']\n",
      "  - r-irkernel -> jupyter -> qtconsole -> pyqt -> sip[version='>=4.19.4,<=4.19.8']\n",
      "  - r-irkernel -> r-base[version='>=3.5.1,<3.5.2.0a0'] -> _r-mutex=1[build=anacondar_1]\n",
      "  - r-irkernel -> r-base[version='>=3.5.1,<3.5.2.0a0'] -> cairo[version='>=1.16.0,<1.17.0a0'] -> fontconfig[version='>=2.13.1,<3.0a0'] -> freetype[version='>=2.9.1,<3.0a0'] -> libpng[version='>=1.6.35,<1.7.0a0'] -> zlib[version='>=1.2.11,<1.3.0a0']\n",
      "  - r-irkernel -> r-base[version='>=3.5.1,<3.5.2.0a0'] -> cairo[version='>=1.16.0,<1.17.0a0'] -> fontconfig[version='>=2.13.1,<3.0a0'] -> icu[version='>=58.2,<59.0a0'] -> libcxx[version='>=4.0.1'] -> libcxxabi==8.0.0=4\n",
      "  - r-irkernel -> r-base[version='>=3.5.1,<3.5.2.0a0'] -> cairo[version='>=1.16.0,<1.17.0a0'] -> fontconfig[version='>=2.13.1,<3.0a0'] -> libiconv[version='>=1.15,<1.16.0a0']\n",
      "  - r-irkernel -> r-base[version='>=3.5.1,<3.5.2.0a0'] -> cairo[version='>=1.16.0,<1.17.0a0'] -> fontconfig[version='>=2.13.1,<3.0a0'] -> libxml2[version='>=2.9.8,<2.10.0a0'] -> xz[version='>=5.2.4,<5.3.0a0']\n",
      "  - r-irkernel -> r-base[version='>=3.5.1,<3.5.2.0a0'] -> cairo[version='>=1.16.0,<1.17.0a0'] -> glib[version='>=2.58.3,<3.0a0'] -> gettext[version='>=0.19.8.1,<1.0a0'] -> libffi[version='>=3.2.1,<3.3.0a0']\n",
      "  - r-irkernel -> r-base[version='>=3.5.1,<3.5.2.0a0'] -> cairo[version='>=1.16.0,<1.17.0a0'] -> glib[version='>=2.58.3,<3.0a0'] -> pcre[version='>=8.41,<9.0a0']\n",
      "  - r-irkernel -> r-base[version='>=3.5.1,<3.5.2.0a0'] -> cairo[version='>=1.16.0,<1.17.0a0'] -> pixman[version='>=0.38.0,<0.39.0a0']\n",
      "  - r-irkernel -> r-base[version='>=3.5.1,<3.5.2.0a0'] -> gsl[version='>=2.5,<2.6.0a0']\n",
      "  - r-irkernel -> r-base[version='>=3.5.1,<3.5.2.0a0'] -> jpeg[version='>=9c,<10a']\n",
      "  - r-irkernel -> r-base[version='>=3.5.1,<3.5.2.0a0'] -> libgfortran[version='>=3.0.1,<4.0.0.a0']\n",
      "  - r-irkernel -> r-base[version='>=3.5.1,<3.5.2.0a0'] -> libtiff[version='>=4.0.9,<5.0a0'] -> zstd[version='>=1.4.0,<1.4.1.0a0'] -> lz4-c[version='>=1.8.3,<1.8.4.0a0']\n",
      "  - r-irkernel -> r-base[version='>=3.5.1,<3.5.2.0a0'] -> pango[version='>=1.40.14,<1.41.0a0'] -> harfbuzz[version='>=2.4.0,<3.0a0'] -> graphite2\n",
      "  - r-irkernel -> r-base[version='>=3.5.1,<3.5.2.0a0'] -> readline[version='>=8.0,<9.0a0'] -> ncurses[version='>=6.1,<6.2.0a0']\n",
      "  - r-irkernel -> r-base[version='>=3.5.1,<3.5.2.0a0'] -> tk[version='>=8.6.9,<8.7.0a0']\n",
      "  - r-irkernel -> r-crayon -> r-memoise -> r-digest[version='>=0.6.3'] -> libgcc -> cloog==0.18.0 -> gmp==5.1.2\n",
      "  - r-irkernel -> r-crayon -> r-memoise -> r-digest[version='>=0.6.3'] -> libgcc -> cloog==0.18.0 -> isl==0.12.2\n",
      "  - r-irkernel -> r-crayon -> r-memoise -> r-digest[version='>=0.6.3'] -> libgcc -> mpc[version='>=0.8.0'] -> mpfr[version='>=4.0.1,<5.0a0']\n",
      "  - r-irkernel -> r-evaluate[version='>=0.10']\n",
      "  - r-irkernel -> r-irdisplay[version='>=0.3.0.9999'] -> r-repr -> r-jsonlite -> mro-base=3.5.0 -> expat[version='>=2.2.5,<3.0a0']\n",
      "  - r-irkernel -> r-pbdzmq[version='>=0.2_1'] -> r-r6\n",
      "  - r-irkernel -> r-pbdzmq[version='>=0.2_1'] -> zeromq[version='>=4.3.1,<4.4.0a0'] -> libsodium[version='>=1.0.17,<1.0.18.0a0']\n",
      "  - r-irkernel -> r-rzmq[version='>=0.7.0']\n",
      "  - r-irkernel -> r-uuid\n",
      "\n",
      "\n",
      "Note that strict channel priority may have removed packages required for satisfiability.\n",
      "\n"
     ]
    },
    {
     "name": "stdout",
     "output_type": "stream",
     "text": [
      "\n",
      "Note: you may need to restart the kernel to use updated packages.\n"
     ]
    }
   ],
   "source": [
    "%conda install r-irkernel"
   ]
  },
  {
   "cell_type": "markdown",
   "metadata": {},
   "source": [
    "Hmm, looks like this doesn't work for some reason. Instead we'll create a new environment with:  \n",
    "`conda create -n nbextr -c conda-forge python=3 jupyter notebook jupyter_contrib_nbextensions r-irkernel ipywidgets r-ggplot2 r-lme4`"
   ]
  },
  {
   "cell_type": "code",
   "execution_count": null,
   "metadata": {},
   "outputs": [],
   "source": []
  }
 ],
 "metadata": {
  "hide_input": false,
  "kernelspec": {
   "display_name": "Python 3",
   "language": "python",
   "name": "python3"
  },
  "language_info": {
   "codemirror_mode": {
    "name": "ipython",
    "version": 3
   },
   "file_extension": ".py",
   "mimetype": "text/x-python",
   "name": "python",
   "nbconvert_exporter": "python",
   "pygments_lexer": "ipython3",
   "version": "3.7.3"
  },
  "toc": {
   "base_numbering": 1,
   "nav_menu": {},
   "number_sections": true,
   "sideBar": true,
   "skip_h1_title": false,
   "title_cell": "Table of Contents",
   "title_sidebar": "Contents",
   "toc_cell": false,
   "toc_position": {
    "height": "calc(100% - 180px)",
    "left": "10px",
    "top": "150px",
    "width": "228.391px"
   },
   "toc_section_display": true,
   "toc_window_display": true
  }
 },
 "nbformat": 4,
 "nbformat_minor": 2
}
