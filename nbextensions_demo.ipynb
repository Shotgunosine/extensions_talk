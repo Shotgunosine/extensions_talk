{
 "cells": [
  {
   "cell_type": "markdown",
   "metadata": {},
   "source": [
    "# Python extensions"
   ]
  },
  {
   "cell_type": "code",
   "execution_count": 1,
   "metadata": {
    "hide_input": false
   },
   "outputs": [],
   "source": [
    "x=11"
   ]
  },
  {
   "cell_type": "markdown",
   "metadata": {
    "variables": {
     "x": "11"
    }
   },
   "source": [
    "This markdown can have python variable values in it {{x}}."
   ]
  },
  {
   "cell_type": "code",
   "execution_count": 2,
   "metadata": {},
   "outputs": [],
   "source": [
    "from pathlib import Path"
   ]
  },
  {
   "cell_type": "markdown",
   "metadata": {},
   "source": [
    "## This is a subsection"
   ]
  },
  {
   "cell_type": "markdown",
   "metadata": {},
   "source": [
    "# Extensions with dependencies\n",
    "you can read more about issues with installing modules from inside a notebook here:\n",
    "http://jakevdp.github.io/blog/2017/12/05/installing-python-packages-from-jupyter/\n"
   ]
  },
  {
   "cell_type": "code",
   "execution_count": 1,
   "metadata": {},
   "outputs": [
    {
     "name": "stdout",
     "output_type": "stream",
     "text": [
      "Collecting package metadata (current_repodata.json): done\n",
      "Solving environment: done\n",
      "\n",
      "## Package Plan ##\n",
      "\n",
      "  environment location: /Users/nielsond/miniconda3/envs/nbextr\n",
      "\n",
      "  added / updated specs:\n",
      "    - autopep8\n",
      "\n",
      "\n",
      "The following NEW packages will be INSTALLED:\n",
      "\n",
      "  autopep8           conda-forge/noarch::autopep8-1.4.4-py_0\n",
      "  pycodestyle        conda-forge/noarch::pycodestyle-2.5.0-py_0\n",
      "\n",
      "\n",
      "Preparing transaction: done\n",
      "Verifying transaction: done\n",
      "Executing transaction: done\n",
      "\n",
      "Note: you may need to restart the kernel to use updated packages.\n"
     ]
    }
   ],
   "source": [
    "%conda install autopep8"
   ]
  },
  {
   "cell_type": "code",
   "execution_count": null,
   "metadata": {
    "solution2": "hidden",
    "solution2_first": true
   },
   "outputs": [],
   "source": [
    "# poorly formatted code from autopep8's documentation (https://github.com/hhatto/autopep8)\n",
    "\n",
    "import math, sys;\n",
    "\n",
    "def example1():\n",
    "    ####This is a long comment. This should be wrapped to fit within 72 characters.\n",
    "    some_tuple=(   1,2, 3,'a'  );\n",
    "    some_variable={'long':'Long code lines should be wrapped within 79 characters.',\n",
    "    'other':[math.pi, 100,200,300,9876543210,'This is a long string that goes on'],\n",
    "    'more':{'inner':'This whole logical line should be wrapped.',some_tuple:[1,\n",
    "    20,300,40000,500000000,60000000000000000]}}\n",
    "    return (some_tuple, some_variable)\n",
    "def example2(): return {'has_key() is deprecated':True}.has_key({'f':2}.has_key(''));\n",
    "class Example3(   object ):\n",
    "    def __init__    ( self, bar ):\n",
    "     #Comments should have a space after the hash.\n",
    "     if bar : bar+=1;  bar=bar* bar   ; return bar\n",
    "     else:\n",
    "                    some_string = \"\"\"\n",
    "                       Indentation in multiline strings should not be touched.\n",
    "Only actual code should be reindented.\n",
    "\"\"\"\n",
    "                    return (sys.path, some_string)"
   ]
  },
  {
   "cell_type": "code",
   "execution_count": 1,
   "metadata": {
    "solution2": "hidden"
   },
   "outputs": [],
   "source": [
    "import math\n",
    "import sys\n",
    "\n",
    "\n",
    "def example1():\n",
    "    # This is a long comment. This should be wrapped to fit within 72 characters.\n",
    "    some_tuple = (1, 2, 3, 'a')\n",
    "    some_variable = {'long': 'Long code lines should be wrapped within 79 characters.',\n",
    "                     'other': [math.pi, 100, 200, 300, 9876543210, 'This is a long string that goes on'],\n",
    "                     'more': {'inner': 'This whole logical line should be wrapped.', some_tuple: [1,\n",
    "                                                                                                  20, 300, 40000, 500000000, 60000000000000000]}}\n",
    "    return (some_tuple, some_variable)\n",
    "\n",
    "\n",
    "def example2(): return {'has_key() is deprecated': True}.has_key(\n",
    "    {'f': 2}.has_key(''))\n",
    "\n",
    "\n",
    "class Example3(object):\n",
    "    def __init__(self, bar):\n",
    "        # Comments should have a space after the hash.\n",
    "        if bar:\n",
    "            bar += 1\n",
    "            bar = bar * bar\n",
    "            return bar\n",
    "        else:\n",
    "            some_string = \"\"\"\n",
    "                       Indentation in multiline strings should not be touched.\n",
    "Only actual code should be reindented.\n",
    "\"\"\"\n",
    "            return (sys.path, some_string)"
   ]
  },
  {
   "cell_type": "markdown",
   "metadata": {},
   "source": [
    "# Niwidgets"
   ]
  },
  {
   "cell_type": "code",
   "execution_count": 4,
   "metadata": {},
   "outputs": [
    {
     "name": "stdout",
     "output_type": "stream",
     "text": [
      "Collecting package metadata (current_repodata.json): done\n",
      "Solving environment: done\n",
      "\n",
      "# All requested packages already installed.\n",
      "\n",
      "\n",
      "Note: you may need to restart the kernel to use updated packages.\n"
     ]
    }
   ],
   "source": [
    "%conda install numpy scipy scikit-learn six"
   ]
  },
  {
   "cell_type": "code",
   "execution_count": 7,
   "metadata": {},
   "outputs": [
    {
     "name": "stdout",
     "output_type": "stream",
     "text": [
      "Requirement already satisfied: nibabel in /Users/nielsond/miniconda3/envs/nbextr/lib/python3.7/site-packages (2.4.1)\n",
      "Requirement already satisfied: nilearn in /Users/nielsond/miniconda3/envs/nbextr/lib/python3.7/site-packages (0.5.2)\n",
      "Collecting niwidgets\n",
      "\u001b[?25l  Downloading https://files.pythonhosted.org/packages/b8/d8/a3f7b9a295670bf7ea4ef1dd421867751b93582ebf8c57777aa9b3f83462/niwidgets-0.2.2-py3-none-any.whl (12.5MB)\n",
      "\u001b[K     |████████████████████████████████| 12.5MB 9.5MB/s eta 0:00:01\n",
      "\u001b[?25hRequirement already satisfied: numpy>=1.8 in /Users/nielsond/miniconda3/envs/nbextr/lib/python3.7/site-packages (from nibabel) (1.16.4)\n",
      "Requirement already satisfied: six>=1.3 in /Users/nielsond/miniconda3/envs/nbextr/lib/python3.7/site-packages (from nibabel) (1.12.0)\n",
      "Requirement already satisfied: scipy<2.0,>=1.2 in /Users/nielsond/miniconda3/envs/nbextr/lib/python3.7/site-packages (from niwidgets) (1.3.0)\n",
      "Collecting ipyvolume<0.6.0,>=0.5.1 (from niwidgets)\n",
      "\u001b[?25l  Downloading https://files.pythonhosted.org/packages/c4/be/09982f3bce56da844c5ee4642a8bfae9908e61d7e6999e7e91479cc64b6a/ipyvolume-0.5.2-py2.py3-none-any.whl (2.9MB)\n",
      "\u001b[K     |████████████████████████████████| 2.9MB 10.0MB/s eta 0:00:01\n",
      "\u001b[?25hRequirement already satisfied: ipywidgets<8.0,>=7.4 in /Users/nielsond/miniconda3/envs/nbextr/lib/python3.7/site-packages (from niwidgets) (7.5.0)\n",
      "Collecting matplotlib<4.0,>=3.0 (from niwidgets)\n",
      "\u001b[?25l  Downloading https://files.pythonhosted.org/packages/c3/8b/af9e0984f5c0df06d3fab0bf396eb09cbf05f8452de4e9502b182f59c33b/matplotlib-3.1.1-cp37-cp37m-macosx_10_6_intel.macosx_10_9_intel.macosx_10_9_x86_64.macosx_10_10_intel.macosx_10_10_x86_64.whl (14.4MB)\n",
      "\u001b[K     |████████████████████████████████| 14.4MB 2.2MB/s eta 0:00:01\n",
      "\u001b[?25hCollecting scikit-learn<0.21.0,>=0.20.3 (from niwidgets)\n",
      "\u001b[?25l  Downloading https://files.pythonhosted.org/packages/bd/1a/5dc99dfa7e7bf2e1f22a07f440b61299148a42d13dee1d5153360313ed67/scikit_learn-0.20.3-cp37-cp37m-macosx_10_6_intel.macosx_10_9_intel.macosx_10_9_x86_64.macosx_10_10_intel.macosx_10_10_x86_64.whl (8.0MB)\n",
      "\u001b[K     |████████████████████████████████| 8.0MB 1.8MB/s eta 0:00:01\n",
      "\u001b[?25hRequirement already satisfied: traitlets in /Users/nielsond/miniconda3/envs/nbextr/lib/python3.7/site-packages (from ipyvolume<0.6.0,>=0.5.1->niwidgets) (4.3.2)\n",
      "Collecting Pillow (from ipyvolume<0.6.0,>=0.5.1->niwidgets)\n",
      "\u001b[?25l  Downloading https://files.pythonhosted.org/packages/8f/f3/c6d351d7e582e4f2ef4343c9be1f0472cb249fb69695e68631e337f4b6e9/Pillow-6.1.0-cp37-cp37m-macosx_10_6_intel.macosx_10_9_intel.macosx_10_9_x86_64.macosx_10_10_intel.macosx_10_10_x86_64.whl (3.8MB)\n",
      "\u001b[K     |████████████████████████████████| 3.9MB 6.2MB/s eta 0:00:01\n",
      "\u001b[?25hCollecting requests (from ipyvolume<0.6.0,>=0.5.1->niwidgets)\n",
      "\u001b[?25l  Downloading https://files.pythonhosted.org/packages/51/bd/23c926cd341ea6b7dd0b2a00aba99ae0f828be89d72b2190f27c11d4b7fb/requests-2.22.0-py2.py3-none-any.whl (57kB)\n",
      "\u001b[K     |████████████████████████████████| 61kB 6.9MB/s eta 0:00:01\n",
      "\u001b[?25hCollecting pythreejs>=1.0.0 (from ipyvolume<0.6.0,>=0.5.1->niwidgets)\n",
      "\u001b[?25l  Downloading https://files.pythonhosted.org/packages/41/21/8307f7308686a08fa7be43ff5e25daf041c8b46d5874a243c262e4665cb8/pythreejs-2.1.1-py2.py3-none-any.whl (4.2MB)\n",
      "\u001b[K     |████████████████████████████████| 4.2MB 15.7MB/s eta 0:00:01\n",
      "\u001b[?25hCollecting traittypes (from ipyvolume<0.6.0,>=0.5.1->niwidgets)\n",
      "  Downloading https://files.pythonhosted.org/packages/9c/d1/8d5bd662703cc1764d986f6908a608777305946fa634d34c470cd4a1e729/traittypes-0.2.1-py2.py3-none-any.whl\n",
      "Collecting ipywebrtc (from ipyvolume<0.6.0,>=0.5.1->niwidgets)\n",
      "\u001b[?25l  Downloading https://files.pythonhosted.org/packages/65/6b/b78b2b6f96fb2299eebae3083d3625cedb62a35ddc9815897f25c8093edd/ipywebrtc-0.5.0-py2.py3-none-any.whl (1.1MB)\n",
      "\u001b[K     |████████████████████████████████| 1.1MB 7.6MB/s eta 0:00:01\n",
      "\u001b[?25hRequirement already satisfied: nbformat>=4.2.0 in /Users/nielsond/miniconda3/envs/nbextr/lib/python3.7/site-packages (from ipywidgets<8.0,>=7.4->niwidgets) (4.4.0)\n",
      "Requirement already satisfied: ipython>=4.0.0; python_version >= \"3.3\" in /Users/nielsond/miniconda3/envs/nbextr/lib/python3.7/site-packages (from ipywidgets<8.0,>=7.4->niwidgets) (7.6.1)\n",
      "Requirement already satisfied: ipykernel>=4.5.1 in /Users/nielsond/miniconda3/envs/nbextr/lib/python3.7/site-packages (from ipywidgets<8.0,>=7.4->niwidgets) (5.1.1)\n",
      "Requirement already satisfied: widgetsnbextension~=3.5.0 in /Users/nielsond/miniconda3/envs/nbextr/lib/python3.7/site-packages (from ipywidgets<8.0,>=7.4->niwidgets) (3.5.0)\n",
      "Collecting kiwisolver>=1.0.1 (from matplotlib<4.0,>=3.0->niwidgets)\n",
      "\u001b[?25l  Downloading https://files.pythonhosted.org/packages/df/93/8bc9b52a8846be2b9572aa0a7c881930939b06e4abe1162da6a0430b794f/kiwisolver-1.1.0-cp37-cp37m-macosx_10_6_intel.macosx_10_9_intel.macosx_10_9_x86_64.macosx_10_10_intel.macosx_10_10_x86_64.whl (113kB)\n",
      "\u001b[K     |████████████████████████████████| 122kB 10.3MB/s eta 0:00:01\n",
      "\u001b[?25hCollecting pyparsing!=2.0.4,!=2.1.2,!=2.1.6,>=2.0.1 (from matplotlib<4.0,>=3.0->niwidgets)\n",
      "\u001b[?25l  Downloading https://files.pythonhosted.org/packages/dd/d9/3ec19e966301a6e25769976999bd7bbe552016f0d32b577dc9d63d2e0c49/pyparsing-2.4.0-py2.py3-none-any.whl (62kB)\n",
      "\u001b[K     |████████████████████████████████| 71kB 9.1MB/s  eta 0:00:01\n",
      "\u001b[?25hCollecting cycler>=0.10 (from matplotlib<4.0,>=3.0->niwidgets)\n",
      "  Using cached https://files.pythonhosted.org/packages/f7/d2/e07d3ebb2bd7af696440ce7e754c59dd546ffe1bbe732c8ab68b9c834e61/cycler-0.10.0-py2.py3-none-any.whl\n",
      "Requirement already satisfied: python-dateutil>=2.1 in /Users/nielsond/miniconda3/envs/nbextr/lib/python3.7/site-packages (from matplotlib<4.0,>=3.0->niwidgets) (2.8.0)\n",
      "Requirement already satisfied: ipython_genutils in /Users/nielsond/miniconda3/envs/nbextr/lib/python3.7/site-packages (from traitlets->ipyvolume<0.6.0,>=0.5.1->niwidgets) (0.2.0)\n",
      "Requirement already satisfied: decorator in /Users/nielsond/miniconda3/envs/nbextr/lib/python3.7/site-packages (from traitlets->ipyvolume<0.6.0,>=0.5.1->niwidgets) (4.4.0)\n",
      "Collecting urllib3!=1.25.0,!=1.25.1,<1.26,>=1.21.1 (from requests->ipyvolume<0.6.0,>=0.5.1->niwidgets)\n",
      "\u001b[?25l  Downloading https://files.pythonhosted.org/packages/e6/60/247f23a7121ae632d62811ba7f273d0e58972d75e58a94d329d51550a47d/urllib3-1.25.3-py2.py3-none-any.whl (150kB)\n",
      "\u001b[K     |████████████████████████████████| 153kB 6.8MB/s eta 0:00:01\n",
      "\u001b[?25hCollecting idna<2.9,>=2.5 (from requests->ipyvolume<0.6.0,>=0.5.1->niwidgets)\n",
      "  Using cached https://files.pythonhosted.org/packages/14/2c/cd551d81dbe15200be1cf41cd03869a46fe7226e7450af7a6545bfc474c9/idna-2.8-py2.py3-none-any.whl\n",
      "Collecting chardet<3.1.0,>=3.0.2 (from requests->ipyvolume<0.6.0,>=0.5.1->niwidgets)\n",
      "  Using cached https://files.pythonhosted.org/packages/bc/a9/01ffebfb562e4274b6487b4bb1ddec7ca55ec7510b22e4c51f14098443b8/chardet-3.0.4-py2.py3-none-any.whl\n",
      "Requirement already satisfied: certifi>=2017.4.17 in /Users/nielsond/miniconda3/envs/nbextr/lib/python3.7/site-packages (from requests->ipyvolume<0.6.0,>=0.5.1->niwidgets) (2019.6.16)\n",
      "Collecting ipydatawidgets>=1.1.1 (from pythreejs>=1.0.0->ipyvolume<0.6.0,>=0.5.1->niwidgets)\n",
      "\u001b[?25l  Downloading https://files.pythonhosted.org/packages/3d/62/eb221e1efaebf42af438c109088fbeea00561e5567a202fc8425d7b9c34d/ipydatawidgets-4.0.1-py2.py3-none-any.whl (250kB)\n",
      "\u001b[K     |████████████████████████████████| 256kB 10.1MB/s eta 0:00:01\n",
      "\u001b[?25hRequirement already satisfied: jsonschema!=2.5.0,>=2.4 in /Users/nielsond/miniconda3/envs/nbextr/lib/python3.7/site-packages (from nbformat>=4.2.0->ipywidgets<8.0,>=7.4->niwidgets) (3.0.1)\n",
      "Requirement already satisfied: jupyter_core in /Users/nielsond/miniconda3/envs/nbextr/lib/python3.7/site-packages (from nbformat>=4.2.0->ipywidgets<8.0,>=7.4->niwidgets) (4.4.0)\n",
      "Requirement already satisfied: jedi>=0.10 in /Users/nielsond/miniconda3/envs/nbextr/lib/python3.7/site-packages (from ipython>=4.0.0; python_version >= \"3.3\"->ipywidgets<8.0,>=7.4->niwidgets) (0.14.0)\n",
      "Requirement already satisfied: prompt-toolkit<2.1.0,>=2.0.0 in /Users/nielsond/miniconda3/envs/nbextr/lib/python3.7/site-packages (from ipython>=4.0.0; python_version >= \"3.3\"->ipywidgets<8.0,>=7.4->niwidgets) (2.0.9)\n",
      "Requirement already satisfied: pygments in /Users/nielsond/miniconda3/envs/nbextr/lib/python3.7/site-packages (from ipython>=4.0.0; python_version >= \"3.3\"->ipywidgets<8.0,>=7.4->niwidgets) (2.4.2)\n",
      "Requirement already satisfied: pickleshare in /Users/nielsond/miniconda3/envs/nbextr/lib/python3.7/site-packages (from ipython>=4.0.0; python_version >= \"3.3\"->ipywidgets<8.0,>=7.4->niwidgets) (0.7.5)\n",
      "Requirement already satisfied: appnope; sys_platform == \"darwin\" in /Users/nielsond/miniconda3/envs/nbextr/lib/python3.7/site-packages (from ipython>=4.0.0; python_version >= \"3.3\"->ipywidgets<8.0,>=7.4->niwidgets) (0.1.0)\n",
      "Requirement already satisfied: pexpect; sys_platform != \"win32\" in /Users/nielsond/miniconda3/envs/nbextr/lib/python3.7/site-packages (from ipython>=4.0.0; python_version >= \"3.3\"->ipywidgets<8.0,>=7.4->niwidgets) (4.7.0)\n",
      "Requirement already satisfied: setuptools>=18.5 in /Users/nielsond/miniconda3/envs/nbextr/lib/python3.7/site-packages (from ipython>=4.0.0; python_version >= \"3.3\"->ipywidgets<8.0,>=7.4->niwidgets) (41.0.1)\n",
      "Requirement already satisfied: backcall in /Users/nielsond/miniconda3/envs/nbextr/lib/python3.7/site-packages (from ipython>=4.0.0; python_version >= \"3.3\"->ipywidgets<8.0,>=7.4->niwidgets) (0.1.0)\n",
      "Requirement already satisfied: jupyter-client in /Users/nielsond/miniconda3/envs/nbextr/lib/python3.7/site-packages (from ipykernel>=4.5.1->ipywidgets<8.0,>=7.4->niwidgets) (5.3.1)\n"
     ]
    },
    {
     "name": "stdout",
     "output_type": "stream",
     "text": [
      "Requirement already satisfied: tornado>=4.2 in /Users/nielsond/miniconda3/envs/nbextr/lib/python3.7/site-packages (from ipykernel>=4.5.1->ipywidgets<8.0,>=7.4->niwidgets) (6.0.3)\n",
      "Requirement already satisfied: notebook>=4.4.1 in /Users/nielsond/miniconda3/envs/nbextr/lib/python3.7/site-packages (from widgetsnbextension~=3.5.0->ipywidgets<8.0,>=7.4->niwidgets) (5.7.8)\n",
      "Requirement already satisfied: attrs>=17.4.0 in /Users/nielsond/miniconda3/envs/nbextr/lib/python3.7/site-packages (from jsonschema!=2.5.0,>=2.4->nbformat>=4.2.0->ipywidgets<8.0,>=7.4->niwidgets) (19.1.0)\n",
      "Requirement already satisfied: pyrsistent>=0.14.0 in /Users/nielsond/miniconda3/envs/nbextr/lib/python3.7/site-packages (from jsonschema!=2.5.0,>=2.4->nbformat>=4.2.0->ipywidgets<8.0,>=7.4->niwidgets) (0.15.3)\n",
      "Requirement already satisfied: parso>=0.3.0 in /Users/nielsond/miniconda3/envs/nbextr/lib/python3.7/site-packages (from jedi>=0.10->ipython>=4.0.0; python_version >= \"3.3\"->ipywidgets<8.0,>=7.4->niwidgets) (0.5.0)\n",
      "Requirement already satisfied: wcwidth in /Users/nielsond/miniconda3/envs/nbextr/lib/python3.7/site-packages (from prompt-toolkit<2.1.0,>=2.0.0->ipython>=4.0.0; python_version >= \"3.3\"->ipywidgets<8.0,>=7.4->niwidgets) (0.1.7)\n",
      "Requirement already satisfied: ptyprocess>=0.5 in /Users/nielsond/miniconda3/envs/nbextr/lib/python3.7/site-packages (from pexpect; sys_platform != \"win32\"->ipython>=4.0.0; python_version >= \"3.3\"->ipywidgets<8.0,>=7.4->niwidgets) (0.6.0)\n",
      "Requirement already satisfied: pyzmq>=13 in /Users/nielsond/miniconda3/envs/nbextr/lib/python3.7/site-packages (from jupyter-client->ipykernel>=4.5.1->ipywidgets<8.0,>=7.4->niwidgets) (18.0.2)\n",
      "Requirement already satisfied: nbconvert in /Users/nielsond/miniconda3/envs/nbextr/lib/python3.7/site-packages (from notebook>=4.4.1->widgetsnbextension~=3.5.0->ipywidgets<8.0,>=7.4->niwidgets) (5.5.0)\n",
      "Requirement already satisfied: Send2Trash in /Users/nielsond/miniconda3/envs/nbextr/lib/python3.7/site-packages (from notebook>=4.4.1->widgetsnbextension~=3.5.0->ipywidgets<8.0,>=7.4->niwidgets) (1.5.0)\n",
      "Requirement already satisfied: prometheus-client in /Users/nielsond/miniconda3/envs/nbextr/lib/python3.7/site-packages (from notebook>=4.4.1->widgetsnbextension~=3.5.0->ipywidgets<8.0,>=7.4->niwidgets) (0.7.1)\n",
      "Requirement already satisfied: jinja2 in /Users/nielsond/miniconda3/envs/nbextr/lib/python3.7/site-packages (from notebook>=4.4.1->widgetsnbextension~=3.5.0->ipywidgets<8.0,>=7.4->niwidgets) (2.10.1)\n",
      "Requirement already satisfied: terminado>=0.8.1 in /Users/nielsond/miniconda3/envs/nbextr/lib/python3.7/site-packages (from notebook>=4.4.1->widgetsnbextension~=3.5.0->ipywidgets<8.0,>=7.4->niwidgets) (0.8.2)\n",
      "Requirement already satisfied: defusedxml in /Users/nielsond/miniconda3/envs/nbextr/lib/python3.7/site-packages (from nbconvert->notebook>=4.4.1->widgetsnbextension~=3.5.0->ipywidgets<8.0,>=7.4->niwidgets) (0.5.0)\n",
      "Requirement already satisfied: entrypoints>=0.2.2 in /Users/nielsond/miniconda3/envs/nbextr/lib/python3.7/site-packages (from nbconvert->notebook>=4.4.1->widgetsnbextension~=3.5.0->ipywidgets<8.0,>=7.4->niwidgets) (0.3)\n",
      "Requirement already satisfied: testpath in /Users/nielsond/miniconda3/envs/nbextr/lib/python3.7/site-packages (from nbconvert->notebook>=4.4.1->widgetsnbextension~=3.5.0->ipywidgets<8.0,>=7.4->niwidgets) (0.4.2)\n",
      "Requirement already satisfied: mistune>=0.8.1 in /Users/nielsond/miniconda3/envs/nbextr/lib/python3.7/site-packages (from nbconvert->notebook>=4.4.1->widgetsnbextension~=3.5.0->ipywidgets<8.0,>=7.4->niwidgets) (0.8.4)\n",
      "Requirement already satisfied: pandocfilters>=1.4.1 in /Users/nielsond/miniconda3/envs/nbextr/lib/python3.7/site-packages (from nbconvert->notebook>=4.4.1->widgetsnbextension~=3.5.0->ipywidgets<8.0,>=7.4->niwidgets) (1.4.2)\n",
      "Requirement already satisfied: bleach in /Users/nielsond/miniconda3/envs/nbextr/lib/python3.7/site-packages (from nbconvert->notebook>=4.4.1->widgetsnbextension~=3.5.0->ipywidgets<8.0,>=7.4->niwidgets) (3.1.0)\n",
      "Requirement already satisfied: MarkupSafe>=0.23 in /Users/nielsond/miniconda3/envs/nbextr/lib/python3.7/site-packages (from jinja2->notebook>=4.4.1->widgetsnbextension~=3.5.0->ipywidgets<8.0,>=7.4->niwidgets) (1.1.1)\n",
      "Requirement already satisfied: webencodings in /Users/nielsond/miniconda3/envs/nbextr/lib/python3.7/site-packages (from bleach->nbconvert->notebook>=4.4.1->widgetsnbextension~=3.5.0->ipywidgets<8.0,>=7.4->niwidgets) (0.5.1)\n",
      "Installing collected packages: Pillow, urllib3, idna, chardet, requests, traittypes, ipydatawidgets, pythreejs, ipywebrtc, ipyvolume, kiwisolver, pyparsing, cycler, matplotlib, scikit-learn, niwidgets\n",
      "  Found existing installation: scikit-learn 0.21.2\n",
      "    Uninstalling scikit-learn-0.21.2:\n",
      "      Successfully uninstalled scikit-learn-0.21.2\n",
      "Successfully installed Pillow-6.1.0 chardet-3.0.4 cycler-0.10.0 idna-2.8 ipydatawidgets-4.0.1 ipyvolume-0.5.2 ipywebrtc-0.5.0 kiwisolver-1.1.0 matplotlib-3.1.1 niwidgets-0.2.2 pyparsing-2.4.0 pythreejs-2.1.1 requests-2.22.0 scikit-learn-0.20.3 traittypes-0.2.1 urllib3-1.25.3\n",
      "Note: you may need to restart the kernel to use updated packages.\n"
     ]
    }
   ],
   "source": [
    "%pip install nibabel nilearn niwidgets"
   ]
  },
  {
   "cell_type": "code",
   "execution_count": 9,
   "metadata": {},
   "outputs": [
    {
     "data": {
      "text/plain": [
       "<Figure size 432x288 with 0 Axes>"
      ]
     },
     "metadata": {},
     "output_type": "display_data"
    },
    {
     "data": {
      "application/vnd.jupyter.widget-view+json": {
       "model_id": "fd34c4f1c8874a01bb5a1c3e1c8d73f1",
       "version_major": 2,
       "version_minor": 0
      },
      "text/plain": [
       "interactive(children=(IntSlider(value=45, continuous_update=False, description='x', max=90), IntSlider(value=5…"
      ]
     },
     "metadata": {},
     "output_type": "display_data"
    }
   ],
   "source": [
    "from niwidgets import NiftiWidget\n",
    "from niwidgets import examplet1\n",
    "%matplotlib inline\n",
    "test_widget = NiftiWidget(examplet1)\n",
    "test_widget.nifti_plotter()"
   ]
  },
  {
   "cell_type": "code",
   "execution_count": 12,
   "metadata": {},
   "outputs": [
    {
     "data": {
      "text/plain": [
       "<Figure size 432x288 with 0 Axes>"
      ]
     },
     "metadata": {},
     "output_type": "display_data"
    },
    {
     "data": {
      "application/vnd.jupyter.widget-view+json": {
       "model_id": "b5c07c63d8de4aea8c072a8c4c2f5f31",
       "version_major": 2,
       "version_minor": 0
      },
      "text/plain": [
       "interactive(children=(FloatSlider(value=5.0, description='threshold', max=10.0, step=0.01), Dropdown(descripti…"
      ]
     },
     "metadata": {},
     "output_type": "display_data"
    }
   ],
   "source": [
    "from niwidgets import examplezmap\n",
    "import nilearn.plotting as nip\n",
    "test = NiftiWidget(examplezmap)\n",
    "test.nifti_plotter(plotting_func=nip.plot_glass_brain, threshold=(0.0, 10.0, 0.01),\n",
    "                   display_mode=['ortho','xz'])\n"
   ]
  },
  {
   "cell_type": "code",
   "execution_count": 11,
   "metadata": {},
   "outputs": [
    {
     "data": {
      "text/plain": [
       "<Figure size 432x288 with 0 Axes>"
      ]
     },
     "metadata": {},
     "output_type": "display_data"
    },
    {
     "data": {
      "application/vnd.jupyter.widget-view+json": {
       "model_id": "cd3d3fa14f22456989f0830cba0a955c",
       "version_major": 2,
       "version_minor": 0
      },
      "text/plain": [
       "interactive(children=(Dropdown(description='display_mode', options=('ortho', 'x', 'y', 'z'), value='ortho'), I…"
      ]
     },
     "metadata": {},
     "output_type": "display_data"
    }
   ],
   "source": [
    "import nilearn.plotting as nip\n",
    "from niwidgets import NiftiWidget\n",
    "from niwidgets import exampleatlas\n",
    "atlas_widget = NiftiWidget(exampleatlas)\n",
    "atlas_widget.nifti_plotter(plotting_func=nip.plot_img, display_mode=['ortho', 'x', 'y', 'z'], colormap='hot')"
   ]
  },
  {
   "cell_type": "markdown",
   "metadata": {},
   "source": [
    "# ReviewNB\n",
    "not an extension but still really cool. A service that will allow you to view pretty diffs of jupyter notebooks, here's an example from this notebook:\n",
    "https://app.reviewnb.com/Shotgunosine/extensions_talk/commit/19079a6021a2afa969174735bf0298b3e27b55b4/"
   ]
  },
  {
   "cell_type": "code",
   "execution_count": null,
   "metadata": {},
   "outputs": [],
   "source": []
  }
 ],
 "metadata": {
  "hide_input": false,
  "kernelspec": {
   "display_name": "Python 3",
   "language": "python",
   "name": "python3"
  },
  "toc": {
   "base_numbering": 1,
   "nav_menu": {},
   "number_sections": true,
   "sideBar": true,
   "skip_h1_title": false,
   "title_cell": "Table of Contents",
   "title_sidebar": "Contents",
   "toc_cell": false,
   "toc_position": {
    "height": "calc(100% - 180px)",
    "left": "10px",
    "top": "150px",
    "width": "228.391px"
   },
   "toc_section_display": true,
   "toc_window_display": true
  }
 },
 "nbformat": 4,
 "nbformat_minor": 2
}
